{
 "cells": [
  {
   "cell_type": "markdown",
   "id": "b62d18a1-d58d-45c1-abfc-111978e45ea6",
   "metadata": {},
   "source": [
    "# 01 Importing Libraries"
   ]
  },
  {
   "cell_type": "code",
   "execution_count": 2,
   "id": "37b72b6a-5761-4a6a-854d-61d5e3cbb25b",
   "metadata": {},
   "outputs": [],
   "source": [
    "import pandas as pd\n",
    "import numpy as np\n",
    "import os"
   ]
  },
  {
   "cell_type": "markdown",
   "id": "33bdc66d-2665-4e94-9c85-c8b40efdd5ef",
   "metadata": {},
   "source": [
    "# 02 Importing Data"
   ]
  },
  {
   "cell_type": "code",
   "execution_count": 8,
   "id": "dedc8203-24bb-415b-9947-128c83082e67",
   "metadata": {},
   "outputs": [],
   "source": [
    "path=r'/Users/serenakunzmann/Documents/CareerFoundry-Python/03-2025 Instacart Basket Analysis/Data/Prepared Data'"
   ]
  },
  {
   "cell_type": "code",
   "execution_count": 50,
   "id": "a3324ff4-abc0-4ad8-b62c-387b676d44a0",
   "metadata": {},
   "outputs": [],
   "source": [
    "df_prods=pd.read_csv(os.path.join(path,'products_wrangled.csv'),index_col=False)"
   ]
  },
  {
   "cell_type": "code",
   "execution_count": 158,
   "id": "2389e208-88b5-4838-8799-61c8ffd6282b",
   "metadata": {},
   "outputs": [],
   "source": [
    "df_ords=pd.read_csv(os.path.join(path,'orders_wrangled.csv'),index_col=False)"
   ]
  },
  {
   "cell_type": "code",
   "execution_count": 18,
   "id": "557cfd96-1dc4-4258-ad8a-12b3bc3589a9",
   "metadata": {},
   "outputs": [],
   "source": [
    "df_dep=pd.read_csv(os.path.join(path,'departments_wrangled.csv'),index_col=False)"
   ]
  },
  {
   "cell_type": "markdown",
   "id": "488708d5-c35f-4e4f-9457-f0801e094061",
   "metadata": {},
   "source": [
    "# 03 Data Consistency"
   ]
  },
  {
   "cell_type": "markdown",
   "id": "3ce57076-3610-413b-8dcc-dbe5b8569206",
   "metadata": {},
   "source": [
    "# 3.0 Data Consistency Check - test dataframe"
   ]
  },
  {
   "cell_type": "code",
   "execution_count": 20,
   "id": "bb79e5d6-bbd6-4288-8851-dcb722af66e2",
   "metadata": {},
   "outputs": [],
   "source": [
    "#create a dataframe\n",
    "df_test=pd.DataFrame()"
   ]
  },
  {
   "cell_type": "code",
   "execution_count": 24,
   "id": "0fa68b8f-1932-48ca-859e-ef787b241523",
   "metadata": {},
   "outputs": [],
   "source": [
    "#create a mixed type column\n",
    "df_test['mix']=['a','b',1, True]"
   ]
  },
  {
   "cell_type": "code",
   "execution_count": 26,
   "id": "f24a9412-94d0-4120-a825-19a64f59b735",
   "metadata": {},
   "outputs": [
    {
     "data": {
      "text/html": [
       "<div>\n",
       "<style scoped>\n",
       "    .dataframe tbody tr th:only-of-type {\n",
       "        vertical-align: middle;\n",
       "    }\n",
       "\n",
       "    .dataframe tbody tr th {\n",
       "        vertical-align: top;\n",
       "    }\n",
       "\n",
       "    .dataframe thead th {\n",
       "        text-align: right;\n",
       "    }\n",
       "</style>\n",
       "<table border=\"1\" class=\"dataframe\">\n",
       "  <thead>\n",
       "    <tr style=\"text-align: right;\">\n",
       "      <th></th>\n",
       "      <th>mix</th>\n",
       "    </tr>\n",
       "  </thead>\n",
       "  <tbody>\n",
       "    <tr>\n",
       "      <th>0</th>\n",
       "      <td>a</td>\n",
       "    </tr>\n",
       "    <tr>\n",
       "      <th>1</th>\n",
       "      <td>b</td>\n",
       "    </tr>\n",
       "    <tr>\n",
       "      <th>2</th>\n",
       "      <td>1</td>\n",
       "    </tr>\n",
       "    <tr>\n",
       "      <th>3</th>\n",
       "      <td>True</td>\n",
       "    </tr>\n",
       "  </tbody>\n",
       "</table>\n",
       "</div>"
      ],
      "text/plain": [
       "    mix\n",
       "0     a\n",
       "1     b\n",
       "2     1\n",
       "3  True"
      ]
     },
     "execution_count": 26,
     "metadata": {},
     "output_type": "execute_result"
    }
   ],
   "source": [
    "df_test.head()"
   ]
  },
  {
   "cell_type": "code",
   "execution_count": 132,
   "id": "d1655428-9d17-4bb9-8bb5-df5332481fb4",
   "metadata": {},
   "outputs": [],
   "source": [
    "#check for mixed type columns\n",
    "for col in df_test.columns.tolist():\n",
    "  weird = (df_test[[col]].map(type) != df_test[[col]].iloc[0].apply(type)).any(axis = 1)\n",
    "  if len (df_test[weird]) > 0:\n",
    "    print (col)"
   ]
  },
  {
   "cell_type": "code",
   "execution_count": 86,
   "id": "7b473259-8cae-46f7-998c-8415e8d1b8cb",
   "metadata": {},
   "outputs": [],
   "source": [
    "#reassigning mix type columns to one uniform type\n",
    "df_test['mix'] = df_test['mix'].astype('str')"
   ]
  },
  {
   "cell_type": "markdown",
   "id": "24ec3fea-01a9-4c5f-bb58-f330317dcb69",
   "metadata": {},
   "source": [
    "# 3.1 Data Consistency Checks - products dataframe"
   ]
  },
  {
   "cell_type": "code",
   "execution_count": 88,
   "id": "2b903cfd-44f2-4a12-a1bd-f342cabf5d13",
   "metadata": {},
   "outputs": [
    {
     "data": {
      "text/plain": [
       "product_id       0\n",
       "product_name     0\n",
       "aisle_id         0\n",
       "department_id    0\n",
       "prices           0\n",
       "dtype: int64"
      ]
     },
     "execution_count": 88,
     "metadata": {},
     "output_type": "execute_result"
    }
   ],
   "source": [
    "#checking for missing data\n",
    "df_prods.isnull().sum()"
   ]
  },
  {
   "cell_type": "code",
   "execution_count": 92,
   "id": "f0f0351c-a98d-496c-8e21-1a735c0ac8a4",
   "metadata": {},
   "outputs": [],
   "source": [
    "#getting closer look at missing data\n",
    "df_nan=df_prods[df_prods['product_name'].isnull()==True]"
   ]
  },
  {
   "cell_type": "code",
   "execution_count": 40,
   "id": "5965f2a0-e5c9-41ad-b478-b9dfcffb6029",
   "metadata": {},
   "outputs": [
    {
     "data": {
      "text/html": [
       "<div>\n",
       "<style scoped>\n",
       "    .dataframe tbody tr th:only-of-type {\n",
       "        vertical-align: middle;\n",
       "    }\n",
       "\n",
       "    .dataframe tbody tr th {\n",
       "        vertical-align: top;\n",
       "    }\n",
       "\n",
       "    .dataframe thead th {\n",
       "        text-align: right;\n",
       "    }\n",
       "</style>\n",
       "<table border=\"1\" class=\"dataframe\">\n",
       "  <thead>\n",
       "    <tr style=\"text-align: right;\">\n",
       "      <th></th>\n",
       "      <th>Unnamed: 0</th>\n",
       "      <th>product_id</th>\n",
       "      <th>product_name</th>\n",
       "      <th>aisle_id</th>\n",
       "      <th>department_id</th>\n",
       "      <th>prices</th>\n",
       "    </tr>\n",
       "  </thead>\n",
       "  <tbody>\n",
       "    <tr>\n",
       "      <th>33</th>\n",
       "      <td>33</td>\n",
       "      <td>34</td>\n",
       "      <td>NaN</td>\n",
       "      <td>121</td>\n",
       "      <td>14</td>\n",
       "      <td>12.2</td>\n",
       "    </tr>\n",
       "    <tr>\n",
       "      <th>68</th>\n",
       "      <td>68</td>\n",
       "      <td>69</td>\n",
       "      <td>NaN</td>\n",
       "      <td>26</td>\n",
       "      <td>7</td>\n",
       "      <td>11.8</td>\n",
       "    </tr>\n",
       "    <tr>\n",
       "      <th>115</th>\n",
       "      <td>115</td>\n",
       "      <td>116</td>\n",
       "      <td>NaN</td>\n",
       "      <td>93</td>\n",
       "      <td>3</td>\n",
       "      <td>10.8</td>\n",
       "    </tr>\n",
       "    <tr>\n",
       "      <th>261</th>\n",
       "      <td>261</td>\n",
       "      <td>262</td>\n",
       "      <td>NaN</td>\n",
       "      <td>110</td>\n",
       "      <td>13</td>\n",
       "      <td>12.1</td>\n",
       "    </tr>\n",
       "    <tr>\n",
       "      <th>525</th>\n",
       "      <td>525</td>\n",
       "      <td>525</td>\n",
       "      <td>NaN</td>\n",
       "      <td>109</td>\n",
       "      <td>11</td>\n",
       "      <td>1.2</td>\n",
       "    </tr>\n",
       "    <tr>\n",
       "      <th>1511</th>\n",
       "      <td>1511</td>\n",
       "      <td>1511</td>\n",
       "      <td>NaN</td>\n",
       "      <td>84</td>\n",
       "      <td>16</td>\n",
       "      <td>14.3</td>\n",
       "    </tr>\n",
       "    <tr>\n",
       "      <th>1780</th>\n",
       "      <td>1780</td>\n",
       "      <td>1780</td>\n",
       "      <td>NaN</td>\n",
       "      <td>126</td>\n",
       "      <td>11</td>\n",
       "      <td>12.3</td>\n",
       "    </tr>\n",
       "    <tr>\n",
       "      <th>2240</th>\n",
       "      <td>2240</td>\n",
       "      <td>2240</td>\n",
       "      <td>NaN</td>\n",
       "      <td>52</td>\n",
       "      <td>1</td>\n",
       "      <td>14.2</td>\n",
       "    </tr>\n",
       "    <tr>\n",
       "      <th>2586</th>\n",
       "      <td>2586</td>\n",
       "      <td>2586</td>\n",
       "      <td>NaN</td>\n",
       "      <td>104</td>\n",
       "      <td>13</td>\n",
       "      <td>12.4</td>\n",
       "    </tr>\n",
       "    <tr>\n",
       "      <th>3159</th>\n",
       "      <td>3159</td>\n",
       "      <td>3159</td>\n",
       "      <td>NaN</td>\n",
       "      <td>126</td>\n",
       "      <td>11</td>\n",
       "      <td>13.1</td>\n",
       "    </tr>\n",
       "    <tr>\n",
       "      <th>3230</th>\n",
       "      <td>3230</td>\n",
       "      <td>3230</td>\n",
       "      <td>NaN</td>\n",
       "      <td>120</td>\n",
       "      <td>16</td>\n",
       "      <td>14.4</td>\n",
       "    </tr>\n",
       "    <tr>\n",
       "      <th>3736</th>\n",
       "      <td>3736</td>\n",
       "      <td>3736</td>\n",
       "      <td>NaN</td>\n",
       "      <td>41</td>\n",
       "      <td>8</td>\n",
       "      <td>14.8</td>\n",
       "    </tr>\n",
       "    <tr>\n",
       "      <th>4283</th>\n",
       "      <td>4283</td>\n",
       "      <td>4283</td>\n",
       "      <td>NaN</td>\n",
       "      <td>77</td>\n",
       "      <td>7</td>\n",
       "      <td>14.4</td>\n",
       "    </tr>\n",
       "    <tr>\n",
       "      <th>4790</th>\n",
       "      <td>4790</td>\n",
       "      <td>4790</td>\n",
       "      <td>NaN</td>\n",
       "      <td>91</td>\n",
       "      <td>16</td>\n",
       "      <td>14.5</td>\n",
       "    </tr>\n",
       "    <tr>\n",
       "      <th>38187</th>\n",
       "      <td>38187</td>\n",
       "      <td>38183</td>\n",
       "      <td>NaN</td>\n",
       "      <td>39</td>\n",
       "      <td>12</td>\n",
       "      <td>20.9</td>\n",
       "    </tr>\n",
       "    <tr>\n",
       "      <th>40444</th>\n",
       "      <td>40444</td>\n",
       "      <td>40440</td>\n",
       "      <td>NaN</td>\n",
       "      <td>120</td>\n",
       "      <td>16</td>\n",
       "      <td>14.8</td>\n",
       "    </tr>\n",
       "  </tbody>\n",
       "</table>\n",
       "</div>"
      ],
      "text/plain": [
       "       Unnamed: 0  product_id product_name  aisle_id  department_id  prices\n",
       "33             33          34          NaN       121             14    12.2\n",
       "68             68          69          NaN        26              7    11.8\n",
       "115           115         116          NaN        93              3    10.8\n",
       "261           261         262          NaN       110             13    12.1\n",
       "525           525         525          NaN       109             11     1.2\n",
       "1511         1511        1511          NaN        84             16    14.3\n",
       "1780         1780        1780          NaN       126             11    12.3\n",
       "2240         2240        2240          NaN        52              1    14.2\n",
       "2586         2586        2586          NaN       104             13    12.4\n",
       "3159         3159        3159          NaN       126             11    13.1\n",
       "3230         3230        3230          NaN       120             16    14.4\n",
       "3736         3736        3736          NaN        41              8    14.8\n",
       "4283         4283        4283          NaN        77              7    14.4\n",
       "4790         4790        4790          NaN        91             16    14.5\n",
       "38187       38187       38183          NaN        39             12    20.9\n",
       "40444       40444       40440          NaN       120             16    14.8"
      ]
     },
     "execution_count": 40,
     "metadata": {},
     "output_type": "execute_result"
    }
   ],
   "source": [
    "df_nan"
   ]
  },
  {
   "cell_type": "code",
   "execution_count": 52,
   "id": "3fec4133-0342-4f1e-a9f5-c98be1aa50bb",
   "metadata": {},
   "outputs": [
    {
     "data": {
      "text/plain": [
       "(49693, 5)"
      ]
     },
     "execution_count": 52,
     "metadata": {},
     "output_type": "execute_result"
    }
   ],
   "source": [
    "df_prods.shape"
   ]
  },
  {
   "cell_type": "code",
   "execution_count": 74,
   "id": "026014e7-c509-42d6-ba0a-f3f4cee21b07",
   "metadata": {},
   "outputs": [],
   "source": [
    "#removing missing data\n",
    "df_prods_clean=df_prods[df_prods['product_name'].isnull()==False]"
   ]
  },
  {
   "cell_type": "code",
   "execution_count": 56,
   "id": "16d6ffab-bd86-4085-a97c-a14907f1d877",
   "metadata": {},
   "outputs": [
    {
     "data": {
      "text/plain": [
       "(49677, 5)"
      ]
     },
     "execution_count": 56,
     "metadata": {},
     "output_type": "execute_result"
    }
   ],
   "source": [
    "df_prods_clean.shape"
   ]
  },
  {
   "cell_type": "code",
   "execution_count": 76,
   "id": "e69c4666-5d57-4782-96c5-b0c316fc0507",
   "metadata": {},
   "outputs": [],
   "source": [
    "#dropping missing data \n",
    "df_prods.dropna(inplace=True)"
   ]
  },
  {
   "cell_type": "code",
   "execution_count": 60,
   "id": "9414b850-1367-4fc4-bc79-f259150f109b",
   "metadata": {},
   "outputs": [
    {
     "data": {
      "text/plain": [
       "(49677, 5)"
      ]
     },
     "execution_count": 60,
     "metadata": {},
     "output_type": "execute_result"
    }
   ],
   "source": [
    "df_prods.shape"
   ]
  },
  {
   "cell_type": "code",
   "execution_count": 80,
   "id": "834f9b40-a1a3-4b66-9a0d-b273aab5f864",
   "metadata": {},
   "outputs": [],
   "source": [
    "#identifying duplicates\n",
    "df_dups = df_prods_clean[df_prods_clean.duplicated()]"
   ]
  },
  {
   "cell_type": "code",
   "execution_count": 64,
   "id": "24ca8e0f-8893-434f-9a7c-4e5fd13ace53",
   "metadata": {},
   "outputs": [
    {
     "data": {
      "text/html": [
       "<div>\n",
       "<style scoped>\n",
       "    .dataframe tbody tr th:only-of-type {\n",
       "        vertical-align: middle;\n",
       "    }\n",
       "\n",
       "    .dataframe tbody tr th {\n",
       "        vertical-align: top;\n",
       "    }\n",
       "\n",
       "    .dataframe thead th {\n",
       "        text-align: right;\n",
       "    }\n",
       "</style>\n",
       "<table border=\"1\" class=\"dataframe\">\n",
       "  <thead>\n",
       "    <tr style=\"text-align: right;\">\n",
       "      <th></th>\n",
       "      <th>product_id</th>\n",
       "      <th>product_name</th>\n",
       "      <th>aisle_id</th>\n",
       "      <th>department_id</th>\n",
       "      <th>prices</th>\n",
       "    </tr>\n",
       "  </thead>\n",
       "  <tbody>\n",
       "    <tr>\n",
       "      <th>462</th>\n",
       "      <td>462</td>\n",
       "      <td>Fiber 4g Gummy Dietary Supplement</td>\n",
       "      <td>70</td>\n",
       "      <td>11</td>\n",
       "      <td>4.8</td>\n",
       "    </tr>\n",
       "    <tr>\n",
       "      <th>18459</th>\n",
       "      <td>18458</td>\n",
       "      <td>Ranger IPA</td>\n",
       "      <td>27</td>\n",
       "      <td>5</td>\n",
       "      <td>9.2</td>\n",
       "    </tr>\n",
       "    <tr>\n",
       "      <th>26810</th>\n",
       "      <td>26808</td>\n",
       "      <td>Black House Coffee Roasty Stout Beer</td>\n",
       "      <td>27</td>\n",
       "      <td>5</td>\n",
       "      <td>13.4</td>\n",
       "    </tr>\n",
       "    <tr>\n",
       "      <th>35309</th>\n",
       "      <td>35306</td>\n",
       "      <td>Gluten Free Organic Peanut Butter &amp; Chocolate ...</td>\n",
       "      <td>121</td>\n",
       "      <td>14</td>\n",
       "      <td>6.8</td>\n",
       "    </tr>\n",
       "    <tr>\n",
       "      <th>35495</th>\n",
       "      <td>35491</td>\n",
       "      <td>Adore Forever Body Wash</td>\n",
       "      <td>127</td>\n",
       "      <td>11</td>\n",
       "      <td>9.9</td>\n",
       "    </tr>\n",
       "  </tbody>\n",
       "</table>\n",
       "</div>"
      ],
      "text/plain": [
       "       product_id                                       product_name  \\\n",
       "462           462                  Fiber 4g Gummy Dietary Supplement   \n",
       "18459       18458                                         Ranger IPA   \n",
       "26810       26808               Black House Coffee Roasty Stout Beer   \n",
       "35309       35306  Gluten Free Organic Peanut Butter & Chocolate ...   \n",
       "35495       35491                            Adore Forever Body Wash   \n",
       "\n",
       "       aisle_id  department_id  prices  \n",
       "462          70             11     4.8  \n",
       "18459        27              5     9.2  \n",
       "26810        27              5    13.4  \n",
       "35309       121             14     6.8  \n",
       "35495       127             11     9.9  "
      ]
     },
     "execution_count": 64,
     "metadata": {},
     "output_type": "execute_result"
    }
   ],
   "source": [
    "df_dups"
   ]
  },
  {
   "cell_type": "code",
   "execution_count": 78,
   "id": "526be9fb-1e6a-4c42-a29b-f2501cc9fbbf",
   "metadata": {},
   "outputs": [],
   "source": [
    "#removing duplicates\n",
    "df_prods_clean_no_dups=df_prods_clean.drop_duplicates()"
   ]
  },
  {
   "cell_type": "code",
   "execution_count": 68,
   "id": "13c497b3-c471-40f8-90ab-6cef54a87bb7",
   "metadata": {},
   "outputs": [
    {
     "data": {
      "text/plain": [
       "(49672, 5)"
      ]
     },
     "execution_count": 68,
     "metadata": {},
     "output_type": "execute_result"
    }
   ],
   "source": [
    "df_prods_clean_no_dups.shape"
   ]
  },
  {
   "cell_type": "code",
   "execution_count": 102,
   "id": "0c325494-d46b-480b-8840-c58eeb4edaee",
   "metadata": {
    "scrolled": true
   },
   "outputs": [
    {
     "data": {
      "text/html": [
       "<div>\n",
       "<style scoped>\n",
       "    .dataframe tbody tr th:only-of-type {\n",
       "        vertical-align: middle;\n",
       "    }\n",
       "\n",
       "    .dataframe tbody tr th {\n",
       "        vertical-align: top;\n",
       "    }\n",
       "\n",
       "    .dataframe thead th {\n",
       "        text-align: right;\n",
       "    }\n",
       "</style>\n",
       "<table border=\"1\" class=\"dataframe\">\n",
       "  <thead>\n",
       "    <tr style=\"text-align: right;\">\n",
       "      <th></th>\n",
       "      <th>product_id</th>\n",
       "      <th>aisle_id</th>\n",
       "      <th>department_id</th>\n",
       "      <th>prices</th>\n",
       "    </tr>\n",
       "  </thead>\n",
       "  <tbody>\n",
       "    <tr>\n",
       "      <th>count</th>\n",
       "      <td>49672.000000</td>\n",
       "      <td>49672.000000</td>\n",
       "      <td>49672.000000</td>\n",
       "      <td>49672.000000</td>\n",
       "    </tr>\n",
       "    <tr>\n",
       "      <th>mean</th>\n",
       "      <td>24850.349775</td>\n",
       "      <td>67.762442</td>\n",
       "      <td>11.728942</td>\n",
       "      <td>9.993282</td>\n",
       "    </tr>\n",
       "    <tr>\n",
       "      <th>std</th>\n",
       "      <td>14340.705287</td>\n",
       "      <td>38.315784</td>\n",
       "      <td>5.850779</td>\n",
       "      <td>453.615536</td>\n",
       "    </tr>\n",
       "    <tr>\n",
       "      <th>min</th>\n",
       "      <td>1.000000</td>\n",
       "      <td>1.000000</td>\n",
       "      <td>1.000000</td>\n",
       "      <td>1.000000</td>\n",
       "    </tr>\n",
       "    <tr>\n",
       "      <th>25%</th>\n",
       "      <td>12432.750000</td>\n",
       "      <td>35.000000</td>\n",
       "      <td>7.000000</td>\n",
       "      <td>4.100000</td>\n",
       "    </tr>\n",
       "    <tr>\n",
       "      <th>50%</th>\n",
       "      <td>24850.500000</td>\n",
       "      <td>69.000000</td>\n",
       "      <td>13.000000</td>\n",
       "      <td>7.100000</td>\n",
       "    </tr>\n",
       "    <tr>\n",
       "      <th>75%</th>\n",
       "      <td>37268.250000</td>\n",
       "      <td>100.000000</td>\n",
       "      <td>17.000000</td>\n",
       "      <td>11.100000</td>\n",
       "    </tr>\n",
       "    <tr>\n",
       "      <th>max</th>\n",
       "      <td>49688.000000</td>\n",
       "      <td>134.000000</td>\n",
       "      <td>21.000000</td>\n",
       "      <td>99999.000000</td>\n",
       "    </tr>\n",
       "  </tbody>\n",
       "</table>\n",
       "</div>"
      ],
      "text/plain": [
       "         product_id      aisle_id  department_id        prices\n",
       "count  49672.000000  49672.000000   49672.000000  49672.000000\n",
       "mean   24850.349775     67.762442      11.728942      9.993282\n",
       "std    14340.705287     38.315784       5.850779    453.615536\n",
       "min        1.000000      1.000000       1.000000      1.000000\n",
       "25%    12432.750000     35.000000       7.000000      4.100000\n",
       "50%    24850.500000     69.000000      13.000000      7.100000\n",
       "75%    37268.250000    100.000000      17.000000     11.100000\n",
       "max    49688.000000    134.000000      21.000000  99999.000000"
      ]
     },
     "execution_count": 102,
     "metadata": {},
     "output_type": "execute_result"
    }
   ],
   "source": [
    "#running exploratory data analysis on products clean no dups dataframe\n",
    "df_prods_clean_no_dups.describe()"
   ]
  },
  {
   "cell_type": "markdown",
   "id": "ebc7f494-cbeb-4bc0-a34c-542a783c3dd4",
   "metadata": {},
   "source": [
    "Observations: prices column looks off. The mean is 9.99 and max 99999.0. This indicates there are extreme outliers and this needs further investigation"
   ]
  },
  {
   "cell_type": "code",
   "execution_count": 106,
   "id": "60e9f6bd-be1f-4e69-a5d9-72757096f763",
   "metadata": {
    "scrolled": true
   },
   "outputs": [
    {
     "data": {
      "text/html": [
       "<div>\n",
       "<style scoped>\n",
       "    .dataframe tbody tr th:only-of-type {\n",
       "        vertical-align: middle;\n",
       "    }\n",
       "\n",
       "    .dataframe tbody tr th {\n",
       "        vertical-align: top;\n",
       "    }\n",
       "\n",
       "    .dataframe thead th {\n",
       "        text-align: right;\n",
       "    }\n",
       "</style>\n",
       "<table border=\"1\" class=\"dataframe\">\n",
       "  <thead>\n",
       "    <tr style=\"text-align: right;\">\n",
       "      <th></th>\n",
       "      <th>product_id</th>\n",
       "      <th>product_name</th>\n",
       "      <th>aisle_id</th>\n",
       "      <th>department_id</th>\n",
       "      <th>prices</th>\n",
       "    </tr>\n",
       "  </thead>\n",
       "  <tbody>\n",
       "    <tr>\n",
       "      <th>21554</th>\n",
       "      <td>21553</td>\n",
       "      <td>Lowfat 2% Milkfat Cottage Cheese</td>\n",
       "      <td>108</td>\n",
       "      <td>16</td>\n",
       "      <td>14900.0</td>\n",
       "    </tr>\n",
       "    <tr>\n",
       "      <th>33666</th>\n",
       "      <td>33664</td>\n",
       "      <td>2 % Reduced Fat  Milk</td>\n",
       "      <td>84</td>\n",
       "      <td>16</td>\n",
       "      <td>99999.0</td>\n",
       "    </tr>\n",
       "  </tbody>\n",
       "</table>\n",
       "</div>"
      ],
      "text/plain": [
       "       product_id                      product_name  aisle_id  department_id  \\\n",
       "21554       21553  Lowfat 2% Milkfat Cottage Cheese       108             16   \n",
       "33666       33664             2 % Reduced Fat  Milk        84             16   \n",
       "\n",
       "        prices  \n",
       "21554  14900.0  \n",
       "33666  99999.0  "
      ]
     },
     "execution_count": 106,
     "metadata": {},
     "output_type": "execute_result"
    }
   ],
   "source": [
    "# identifying outliers by calling out prices higher than the mean + 1 STD.\n",
    "df_prods_clean_no_dups[df_prods_clean_no_dups['prices'] > df_prods['prices'].mean() * (df_prods['prices'].std())]"
   ]
  },
  {
   "cell_type": "code",
   "execution_count": 108,
   "id": "ac8cdc5d-200c-4d93-9149-897fe11b8609",
   "metadata": {},
   "outputs": [],
   "source": [
    "# replacing outlier prices with mean price and saving to a new dataframe\n",
    "df_prods_fixed=df_prods_clean_no_dups.replace({\"prices\":{14900.0:7.1,99999.0:7.1}})"
   ]
  },
  {
   "cell_type": "code",
   "execution_count": 110,
   "id": "b9e30b71-7db0-4f35-baff-3da8b582c31f",
   "metadata": {},
   "outputs": [
    {
     "data": {
      "text/html": [
       "<div>\n",
       "<style scoped>\n",
       "    .dataframe tbody tr th:only-of-type {\n",
       "        vertical-align: middle;\n",
       "    }\n",
       "\n",
       "    .dataframe tbody tr th {\n",
       "        vertical-align: top;\n",
       "    }\n",
       "\n",
       "    .dataframe thead th {\n",
       "        text-align: right;\n",
       "    }\n",
       "</style>\n",
       "<table border=\"1\" class=\"dataframe\">\n",
       "  <thead>\n",
       "    <tr style=\"text-align: right;\">\n",
       "      <th></th>\n",
       "      <th>product_id</th>\n",
       "      <th>aisle_id</th>\n",
       "      <th>department_id</th>\n",
       "      <th>prices</th>\n",
       "    </tr>\n",
       "  </thead>\n",
       "  <tbody>\n",
       "    <tr>\n",
       "      <th>count</th>\n",
       "      <td>49672.000000</td>\n",
       "      <td>49672.000000</td>\n",
       "      <td>49672.000000</td>\n",
       "      <td>49672.000000</td>\n",
       "    </tr>\n",
       "    <tr>\n",
       "      <th>mean</th>\n",
       "      <td>24850.349775</td>\n",
       "      <td>67.762442</td>\n",
       "      <td>11.728942</td>\n",
       "      <td>7.680414</td>\n",
       "    </tr>\n",
       "    <tr>\n",
       "      <th>std</th>\n",
       "      <td>14340.705287</td>\n",
       "      <td>38.315784</td>\n",
       "      <td>5.850779</td>\n",
       "      <td>4.199298</td>\n",
       "    </tr>\n",
       "    <tr>\n",
       "      <th>min</th>\n",
       "      <td>1.000000</td>\n",
       "      <td>1.000000</td>\n",
       "      <td>1.000000</td>\n",
       "      <td>1.000000</td>\n",
       "    </tr>\n",
       "    <tr>\n",
       "      <th>25%</th>\n",
       "      <td>12432.750000</td>\n",
       "      <td>35.000000</td>\n",
       "      <td>7.000000</td>\n",
       "      <td>4.100000</td>\n",
       "    </tr>\n",
       "    <tr>\n",
       "      <th>50%</th>\n",
       "      <td>24850.500000</td>\n",
       "      <td>69.000000</td>\n",
       "      <td>13.000000</td>\n",
       "      <td>7.100000</td>\n",
       "    </tr>\n",
       "    <tr>\n",
       "      <th>75%</th>\n",
       "      <td>37268.250000</td>\n",
       "      <td>100.000000</td>\n",
       "      <td>17.000000</td>\n",
       "      <td>11.100000</td>\n",
       "    </tr>\n",
       "    <tr>\n",
       "      <th>max</th>\n",
       "      <td>49688.000000</td>\n",
       "      <td>134.000000</td>\n",
       "      <td>21.000000</td>\n",
       "      <td>25.000000</td>\n",
       "    </tr>\n",
       "  </tbody>\n",
       "</table>\n",
       "</div>"
      ],
      "text/plain": [
       "         product_id      aisle_id  department_id        prices\n",
       "count  49672.000000  49672.000000   49672.000000  49672.000000\n",
       "mean   24850.349775     67.762442      11.728942      7.680414\n",
       "std    14340.705287     38.315784       5.850779      4.199298\n",
       "min        1.000000      1.000000       1.000000      1.000000\n",
       "25%    12432.750000     35.000000       7.000000      4.100000\n",
       "50%    24850.500000     69.000000      13.000000      7.100000\n",
       "75%    37268.250000    100.000000      17.000000     11.100000\n",
       "max    49688.000000    134.000000      21.000000     25.000000"
      ]
     },
     "execution_count": 110,
     "metadata": {},
     "output_type": "execute_result"
    }
   ],
   "source": [
    "# checking df_prods_fixed prices\n",
    "df_prods_fixed.describe()"
   ]
  },
  {
   "cell_type": "code",
   "execution_count": 82,
   "id": "acf33f54-2bfa-487b-82db-a988d39e6070",
   "metadata": {},
   "outputs": [],
   "source": [
    "#exporting checked products data\n",
    "df_prods_clean_no_dups.to_csv(os.path.join(path, 'products_checked.csv'))"
   ]
  },
  {
   "cell_type": "code",
   "execution_count": 112,
   "id": "29ef4e2a-a92a-4ec9-933b-e431560b8f3a",
   "metadata": {},
   "outputs": [],
   "source": [
    "#exporting checked & fixed products data\n",
    "df_prods_fixed.to_csv(os.path.join(path,'products_checked_fixed.csv'))"
   ]
  },
  {
   "cell_type": "markdown",
   "id": "c135482c-aef1-44c8-a5b5-d13a3a36cddc",
   "metadata": {},
   "source": [
    "# 3.2 Data Consistency Check - orders dataframe"
   ]
  },
  {
   "cell_type": "code",
   "execution_count": 160,
   "id": "d7b4bd6c-f297-4f16-bebf-4d88784034f0",
   "metadata": {},
   "outputs": [
    {
     "data": {
      "text/html": [
       "<div>\n",
       "<style scoped>\n",
       "    .dataframe tbody tr th:only-of-type {\n",
       "        vertical-align: middle;\n",
       "    }\n",
       "\n",
       "    .dataframe tbody tr th {\n",
       "        vertical-align: top;\n",
       "    }\n",
       "\n",
       "    .dataframe thead th {\n",
       "        text-align: right;\n",
       "    }\n",
       "</style>\n",
       "<table border=\"1\" class=\"dataframe\">\n",
       "  <thead>\n",
       "    <tr style=\"text-align: right;\">\n",
       "      <th></th>\n",
       "      <th>order_id</th>\n",
       "      <th>user_id</th>\n",
       "      <th>order_number</th>\n",
       "      <th>Order_day_of_week</th>\n",
       "      <th>order_hour_of_day</th>\n",
       "      <th>days_since_prior_order</th>\n",
       "    </tr>\n",
       "  </thead>\n",
       "  <tbody>\n",
       "    <tr>\n",
       "      <th>count</th>\n",
       "      <td>9.999990e+05</td>\n",
       "      <td>999999.000000</td>\n",
       "      <td>999999.000000</td>\n",
       "      <td>999999.000000</td>\n",
       "      <td>999999.000000</td>\n",
       "      <td>939921.000000</td>\n",
       "    </tr>\n",
       "    <tr>\n",
       "      <th>mean</th>\n",
       "      <td>1.711274e+06</td>\n",
       "      <td>30105.433949</td>\n",
       "      <td>17.193345</td>\n",
       "      <td>2.779240</td>\n",
       "      <td>13.449694</td>\n",
       "      <td>11.097082</td>\n",
       "    </tr>\n",
       "    <tr>\n",
       "      <th>std</th>\n",
       "      <td>9.876569e+05</td>\n",
       "      <td>17323.577936</td>\n",
       "      <td>17.716800</td>\n",
       "      <td>2.048188</td>\n",
       "      <td>4.220945</td>\n",
       "      <td>9.183694</td>\n",
       "    </tr>\n",
       "    <tr>\n",
       "      <th>min</th>\n",
       "      <td>6.000000e+00</td>\n",
       "      <td>1.000000</td>\n",
       "      <td>1.000000</td>\n",
       "      <td>0.000000</td>\n",
       "      <td>0.000000</td>\n",
       "      <td>0.000000</td>\n",
       "    </tr>\n",
       "    <tr>\n",
       "      <th>25%</th>\n",
       "      <td>8.557595e+05</td>\n",
       "      <td>15117.000000</td>\n",
       "      <td>5.000000</td>\n",
       "      <td>1.000000</td>\n",
       "      <td>10.000000</td>\n",
       "      <td>4.000000</td>\n",
       "    </tr>\n",
       "    <tr>\n",
       "      <th>50%</th>\n",
       "      <td>1.711006e+06</td>\n",
       "      <td>30148.000000</td>\n",
       "      <td>11.000000</td>\n",
       "      <td>3.000000</td>\n",
       "      <td>13.000000</td>\n",
       "      <td>7.000000</td>\n",
       "    </tr>\n",
       "    <tr>\n",
       "      <th>75%</th>\n",
       "      <td>2.567507e+06</td>\n",
       "      <td>45132.000000</td>\n",
       "      <td>24.000000</td>\n",
       "      <td>5.000000</td>\n",
       "      <td>16.000000</td>\n",
       "      <td>15.000000</td>\n",
       "    </tr>\n",
       "    <tr>\n",
       "      <th>max</th>\n",
       "      <td>3.421083e+06</td>\n",
       "      <td>60078.000000</td>\n",
       "      <td>100.000000</td>\n",
       "      <td>6.000000</td>\n",
       "      <td>23.000000</td>\n",
       "      <td>30.000000</td>\n",
       "    </tr>\n",
       "  </tbody>\n",
       "</table>\n",
       "</div>"
      ],
      "text/plain": [
       "           order_id        user_id   order_number  Order_day_of_week  \\\n",
       "count  9.999990e+05  999999.000000  999999.000000      999999.000000   \n",
       "mean   1.711274e+06   30105.433949      17.193345           2.779240   \n",
       "std    9.876569e+05   17323.577936      17.716800           2.048188   \n",
       "min    6.000000e+00       1.000000       1.000000           0.000000   \n",
       "25%    8.557595e+05   15117.000000       5.000000           1.000000   \n",
       "50%    1.711006e+06   30148.000000      11.000000           3.000000   \n",
       "75%    2.567507e+06   45132.000000      24.000000           5.000000   \n",
       "max    3.421083e+06   60078.000000     100.000000           6.000000   \n",
       "\n",
       "       order_hour_of_day  days_since_prior_order  \n",
       "count      999999.000000           939921.000000  \n",
       "mean           13.449694               11.097082  \n",
       "std             4.220945                9.183694  \n",
       "min             0.000000                0.000000  \n",
       "25%            10.000000                4.000000  \n",
       "50%            13.000000                7.000000  \n",
       "75%            16.000000               15.000000  \n",
       "max            23.000000               30.000000  "
      ]
     },
     "execution_count": 160,
     "metadata": {},
     "output_type": "execute_result"
    }
   ],
   "source": [
    "df_ords.describe()"
   ]
  },
  {
   "cell_type": "markdown",
   "id": "0ee402a6-13b3-4ba1-b6cf-fef3af864ce2",
   "metadata": {},
   "source": [
    "Observation: The accuracy of columns above look in tact aside from days_since_prior_order. This columns total count is less than total counts for the other columns. This is likely due to missing values. Further investigation is needed."
   ]
  },
  {
   "cell_type": "code",
   "execution_count": 162,
   "id": "993bb70f-c4e2-40de-a80c-c5f08f22a543",
   "metadata": {},
   "outputs": [
    {
     "name": "stderr",
     "output_type": "stream",
     "text": [
      "/var/folders/dc/m090wqld5fs_bfy3ppvjgp380000gn/T/ipykernel_11358/1028877522.py:3: FutureWarning: DataFrame.applymap has been deprecated. Use DataFrame.map instead.\n",
      "  weird = (df_ords[[col]].applymap(type) != df_ords[[col]].iloc[0].apply(type)).any(axis = 1)\n",
      "/var/folders/dc/m090wqld5fs_bfy3ppvjgp380000gn/T/ipykernel_11358/1028877522.py:3: FutureWarning: DataFrame.applymap has been deprecated. Use DataFrame.map instead.\n",
      "  weird = (df_ords[[col]].applymap(type) != df_ords[[col]].iloc[0].apply(type)).any(axis = 1)\n",
      "/var/folders/dc/m090wqld5fs_bfy3ppvjgp380000gn/T/ipykernel_11358/1028877522.py:3: FutureWarning: DataFrame.applymap has been deprecated. Use DataFrame.map instead.\n",
      "  weird = (df_ords[[col]].applymap(type) != df_ords[[col]].iloc[0].apply(type)).any(axis = 1)\n",
      "/var/folders/dc/m090wqld5fs_bfy3ppvjgp380000gn/T/ipykernel_11358/1028877522.py:3: FutureWarning: DataFrame.applymap has been deprecated. Use DataFrame.map instead.\n",
      "  weird = (df_ords[[col]].applymap(type) != df_ords[[col]].iloc[0].apply(type)).any(axis = 1)\n",
      "/var/folders/dc/m090wqld5fs_bfy3ppvjgp380000gn/T/ipykernel_11358/1028877522.py:3: FutureWarning: DataFrame.applymap has been deprecated. Use DataFrame.map instead.\n",
      "  weird = (df_ords[[col]].applymap(type) != df_ords[[col]].iloc[0].apply(type)).any(axis = 1)\n",
      "/var/folders/dc/m090wqld5fs_bfy3ppvjgp380000gn/T/ipykernel_11358/1028877522.py:3: FutureWarning: DataFrame.applymap has been deprecated. Use DataFrame.map instead.\n",
      "  weird = (df_ords[[col]].applymap(type) != df_ords[[col]].iloc[0].apply(type)).any(axis = 1)\n"
     ]
    }
   ],
   "source": [
    "#checking for mixed type data in orders dataframe\n",
    "for col in df_ords.columns.tolist(): \n",
    "  weird = (df_ords[[col]].applymap(type) != df_ords[[col]].iloc[0].apply(type)).any(axis = 1) \n",
    "  if len (df_ords[weird]) > 0: \n",
    "    print (col) "
   ]
  },
  {
   "cell_type": "code",
   "execution_count": 164,
   "id": "ac7e98f0-ec39-4faa-beb0-4589acd173fa",
   "metadata": {
    "scrolled": true
   },
   "outputs": [
    {
     "name": "stdout",
     "output_type": "stream",
     "text": [
      "<class 'pandas.core.frame.DataFrame'>\n",
      "RangeIndex: 999999 entries, 0 to 999998\n",
      "Data columns (total 6 columns):\n",
      " #   Column                  Non-Null Count   Dtype  \n",
      "---  ------                  --------------   -----  \n",
      " 0   order_id                999999 non-null  int64  \n",
      " 1   user_id                 999999 non-null  int64  \n",
      " 2   order_number            999999 non-null  int64  \n",
      " 3   Order_day_of_week       999999 non-null  int64  \n",
      " 4   order_hour_of_day       999999 non-null  int64  \n",
      " 5   days_since_prior_order  939921 non-null  float64\n",
      "dtypes: float64(1), int64(5)\n",
      "memory usage: 45.8 MB\n"
     ]
    }
   ],
   "source": [
    "#checking another way if there are mixed data types\n",
    "df_ords.info()"
   ]
  },
  {
   "cell_type": "markdown",
   "id": "5abd9898-3a20-4dbb-a1e4-5f0bfa70e52d",
   "metadata": {},
   "source": [
    "Observation: No mixed type data found. "
   ]
  },
  {
   "cell_type": "code",
   "execution_count": 166,
   "id": "7b97654e-0730-430e-a79e-266616af2ecf",
   "metadata": {
    "scrolled": true
   },
   "outputs": [
    {
     "data": {
      "text/plain": [
       "order_id                      0\n",
       "user_id                       0\n",
       "order_number                  0\n",
       "Order_day_of_week             0\n",
       "order_hour_of_day             0\n",
       "days_since_prior_order    60078\n",
       "dtype: int64"
      ]
     },
     "execution_count": 166,
     "metadata": {},
     "output_type": "execute_result"
    }
   ],
   "source": [
    "#checking for missing data in orders dataframe\n",
    "df_ords.isnull().sum()"
   ]
  },
  {
   "cell_type": "code",
   "execution_count": 168,
   "id": "eb169d9a-4348-48a9-adb1-9336bfa6aaed",
   "metadata": {},
   "outputs": [],
   "source": [
    "df_nan=df_ords[df_ords['days_since_prior_order'].isnull()== True]"
   ]
  },
  {
   "cell_type": "code",
   "execution_count": null,
   "id": "e0887a85-1db8-49ac-88e1-be97be5f45a1",
   "metadata": {},
   "outputs": [],
   "source": [
    "df_ords=df_"
   ]
  },
  {
   "cell_type": "code",
   "execution_count": 170,
   "id": "627d63f8-6e09-4002-ae1e-bc9f300a9381",
   "metadata": {},
   "outputs": [
    {
     "data": {
      "text/html": [
       "<div>\n",
       "<style scoped>\n",
       "    .dataframe tbody tr th:only-of-type {\n",
       "        vertical-align: middle;\n",
       "    }\n",
       "\n",
       "    .dataframe tbody tr th {\n",
       "        vertical-align: top;\n",
       "    }\n",
       "\n",
       "    .dataframe thead th {\n",
       "        text-align: right;\n",
       "    }\n",
       "</style>\n",
       "<table border=\"1\" class=\"dataframe\">\n",
       "  <thead>\n",
       "    <tr style=\"text-align: right;\">\n",
       "      <th></th>\n",
       "      <th>order_id</th>\n",
       "      <th>user_id</th>\n",
       "      <th>order_number</th>\n",
       "      <th>Order_day_of_week</th>\n",
       "      <th>order_hour_of_day</th>\n",
       "      <th>days_since_prior_order</th>\n",
       "    </tr>\n",
       "  </thead>\n",
       "  <tbody>\n",
       "    <tr>\n",
       "      <th>0</th>\n",
       "      <td>2539329</td>\n",
       "      <td>1</td>\n",
       "      <td>1</td>\n",
       "      <td>2</td>\n",
       "      <td>8</td>\n",
       "      <td>NaN</td>\n",
       "    </tr>\n",
       "    <tr>\n",
       "      <th>11</th>\n",
       "      <td>2168274</td>\n",
       "      <td>2</td>\n",
       "      <td>1</td>\n",
       "      <td>2</td>\n",
       "      <td>11</td>\n",
       "      <td>NaN</td>\n",
       "    </tr>\n",
       "    <tr>\n",
       "      <th>26</th>\n",
       "      <td>1374495</td>\n",
       "      <td>3</td>\n",
       "      <td>1</td>\n",
       "      <td>1</td>\n",
       "      <td>14</td>\n",
       "      <td>NaN</td>\n",
       "    </tr>\n",
       "    <tr>\n",
       "      <th>39</th>\n",
       "      <td>3343014</td>\n",
       "      <td>4</td>\n",
       "      <td>1</td>\n",
       "      <td>6</td>\n",
       "      <td>11</td>\n",
       "      <td>NaN</td>\n",
       "    </tr>\n",
       "    <tr>\n",
       "      <th>45</th>\n",
       "      <td>2717275</td>\n",
       "      <td>5</td>\n",
       "      <td>1</td>\n",
       "      <td>3</td>\n",
       "      <td>12</td>\n",
       "      <td>NaN</td>\n",
       "    </tr>\n",
       "    <tr>\n",
       "      <th>...</th>\n",
       "      <td>...</td>\n",
       "      <td>...</td>\n",
       "      <td>...</td>\n",
       "      <td>...</td>\n",
       "      <td>...</td>\n",
       "      <td>...</td>\n",
       "    </tr>\n",
       "    <tr>\n",
       "      <th>999917</th>\n",
       "      <td>1323107</td>\n",
       "      <td>60074</td>\n",
       "      <td>1</td>\n",
       "      <td>1</td>\n",
       "      <td>14</td>\n",
       "      <td>NaN</td>\n",
       "    </tr>\n",
       "    <tr>\n",
       "      <th>999927</th>\n",
       "      <td>3219075</td>\n",
       "      <td>60075</td>\n",
       "      <td>1</td>\n",
       "      <td>1</td>\n",
       "      <td>15</td>\n",
       "      <td>NaN</td>\n",
       "    </tr>\n",
       "    <tr>\n",
       "      <th>999945</th>\n",
       "      <td>1789638</td>\n",
       "      <td>60076</td>\n",
       "      <td>1</td>\n",
       "      <td>6</td>\n",
       "      <td>8</td>\n",
       "      <td>NaN</td>\n",
       "    </tr>\n",
       "    <tr>\n",
       "      <th>999960</th>\n",
       "      <td>1004677</td>\n",
       "      <td>60077</td>\n",
       "      <td>1</td>\n",
       "      <td>1</td>\n",
       "      <td>12</td>\n",
       "      <td>NaN</td>\n",
       "    </tr>\n",
       "    <tr>\n",
       "      <th>999965</th>\n",
       "      <td>2959043</td>\n",
       "      <td>60078</td>\n",
       "      <td>1</td>\n",
       "      <td>3</td>\n",
       "      <td>11</td>\n",
       "      <td>NaN</td>\n",
       "    </tr>\n",
       "  </tbody>\n",
       "</table>\n",
       "<p>60078 rows × 6 columns</p>\n",
       "</div>"
      ],
      "text/plain": [
       "        order_id  user_id  order_number  Order_day_of_week  order_hour_of_day  \\\n",
       "0        2539329        1             1                  2                  8   \n",
       "11       2168274        2             1                  2                 11   \n",
       "26       1374495        3             1                  1                 14   \n",
       "39       3343014        4             1                  6                 11   \n",
       "45       2717275        5             1                  3                 12   \n",
       "...          ...      ...           ...                ...                ...   \n",
       "999917   1323107    60074             1                  1                 14   \n",
       "999927   3219075    60075             1                  1                 15   \n",
       "999945   1789638    60076             1                  6                  8   \n",
       "999960   1004677    60077             1                  1                 12   \n",
       "999965   2959043    60078             1                  3                 11   \n",
       "\n",
       "        days_since_prior_order  \n",
       "0                          NaN  \n",
       "11                         NaN  \n",
       "26                         NaN  \n",
       "39                         NaN  \n",
       "45                         NaN  \n",
       "...                        ...  \n",
       "999917                     NaN  \n",
       "999927                     NaN  \n",
       "999945                     NaN  \n",
       "999960                     NaN  \n",
       "999965                     NaN  \n",
       "\n",
       "[60078 rows x 6 columns]"
      ]
     },
     "execution_count": 170,
     "metadata": {},
     "output_type": "execute_result"
    }
   ],
   "source": [
    "df_nan"
   ]
  },
  {
   "cell_type": "markdown",
   "id": "d74518bc-9a3e-46de-9afd-42798b70a313",
   "metadata": {},
   "source": [
    "Observation: 60078 missing values were found in days_since_prior_order. This makes sense because they are first time customers so they dont have a prior order. We will leave these missing values in."
   ]
  },
  {
   "cell_type": "code",
   "execution_count": 172,
   "id": "a55aa8f1-a39e-4c6f-bbaf-c99c68afa4e3",
   "metadata": {},
   "outputs": [
    {
     "data": {
      "text/html": [
       "<div>\n",
       "<style scoped>\n",
       "    .dataframe tbody tr th:only-of-type {\n",
       "        vertical-align: middle;\n",
       "    }\n",
       "\n",
       "    .dataframe tbody tr th {\n",
       "        vertical-align: top;\n",
       "    }\n",
       "\n",
       "    .dataframe thead th {\n",
       "        text-align: right;\n",
       "    }\n",
       "</style>\n",
       "<table border=\"1\" class=\"dataframe\">\n",
       "  <thead>\n",
       "    <tr style=\"text-align: right;\">\n",
       "      <th></th>\n",
       "      <th>order_id</th>\n",
       "      <th>user_id</th>\n",
       "      <th>order_number</th>\n",
       "      <th>Order_day_of_week</th>\n",
       "      <th>order_hour_of_day</th>\n",
       "      <th>days_since_prior_order</th>\n",
       "    </tr>\n",
       "  </thead>\n",
       "  <tbody>\n",
       "  </tbody>\n",
       "</table>\n",
       "</div>"
      ],
      "text/plain": [
       "Empty DataFrame\n",
       "Columns: [order_id, user_id, order_number, Order_day_of_week, order_hour_of_day, days_since_prior_order]\n",
       "Index: []"
      ]
     },
     "execution_count": 172,
     "metadata": {},
     "output_type": "execute_result"
    }
   ],
   "source": [
    "#checking for dups\n",
    "df_ords[df_ords.duplicated()]"
   ]
  },
  {
   "cell_type": "markdown",
   "id": "9f9d33eb-61a8-42e6-9b89-4dc0c03a98e3",
   "metadata": {},
   "source": [
    "Observation: No duplicates were found."
   ]
  },
  {
   "cell_type": "code",
   "execution_count": 180,
   "id": "ee0f85af-e44a-493f-a313-4e04212bf516",
   "metadata": {},
   "outputs": [],
   "source": [
    "#exporting orders dataframe\n",
    "df_ords_clean=df_ords\n",
    "df_ords_clean.to_csv(os.path.join(path,'orders_checked.csv'))"
   ]
  },
  {
   "cell_type": "code",
   "execution_count": null,
   "id": "358e7e13-04df-40b5-a72f-99ea52d278b3",
   "metadata": {},
   "outputs": [],
   "source": []
  }
 ],
 "metadata": {
  "kernelspec": {
   "display_name": "Python [conda env:base] *",
   "language": "python",
   "name": "conda-base-py"
  },
  "language_info": {
   "codemirror_mode": {
    "name": "ipython",
    "version": 3
   },
   "file_extension": ".py",
   "mimetype": "text/x-python",
   "name": "python",
   "nbconvert_exporter": "python",
   "pygments_lexer": "ipython3",
   "version": "3.12.7"
  }
 },
 "nbformat": 4,
 "nbformat_minor": 5
}
