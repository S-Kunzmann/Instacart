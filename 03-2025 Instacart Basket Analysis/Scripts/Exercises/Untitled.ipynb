{
 "cells": [
  {
   "cell_type": "code",
   "execution_count": 2,
   "id": "6677450c-f56f-4e3e-bab2-8f33d09c864a",
   "metadata": {},
   "outputs": [],
   "source": [
    "import pandas as pd\n",
    "import numpy as np\n",
    "import os"
   ]
  },
  {
   "cell_type": "code",
   "execution_count": 4,
   "id": "13f62f41-b46d-43eb-bcaa-1f32cf054c45",
   "metadata": {},
   "outputs": [],
   "source": [
    "path=r'/Users/serenakunzmann/Documents/CareerFoundry-Python/03-2025 Instacart Basket Analysis'"
   ]
  },
  {
   "cell_type": "code",
   "execution_count": 8,
   "id": "33108287-a597-4ae4-9746-02b89b0fe39d",
   "metadata": {},
   "outputs": [],
   "source": [
    "#importing df_ords_prior\n",
    "df_ords_prior=pd.read_csv(os.path.join(path,'Data','Original Data','orders_products_prior.csv'),index_col=False)"
   ]
  },
  {
   "cell_type": "code",
   "execution_count": 9,
   "id": "1a8d2757-ed0a-45cf-b170-850b27215c4c",
   "metadata": {},
   "outputs": [],
   "source": [
    "#importing df_ords\n",
    "df_orders=pd.read_csv(os.path.join(path,'Data','Original Data','orders.csv'),index_col=False)"
   ]
  },
  {
   "cell_type": "code",
   "execution_count": 12,
   "id": "09adfaa2-444a-42f2-a317-0a75f6273634",
   "metadata": {},
   "outputs": [
    {
     "data": {
      "text/plain": [
       "(32434489, 4)"
      ]
     },
     "execution_count": 12,
     "metadata": {},
     "output_type": "execute_result"
    }
   ],
   "source": [
    "df_ords_prior.shape"
   ]
  },
  {
   "cell_type": "code",
   "execution_count": 14,
   "id": "1779e6f2-02fb-410b-8e3d-9677a7bd40bf",
   "metadata": {},
   "outputs": [
    {
     "data": {
      "text/plain": [
       "(3421083, 7)"
      ]
     },
     "execution_count": 14,
     "metadata": {},
     "output_type": "execute_result"
    }
   ],
   "source": [
    "df_orders.shape"
   ]
  },
  {
   "cell_type": "code",
   "execution_count": 16,
   "id": "35f0546a-402c-4254-bbfa-62132f2f5dd2",
   "metadata": {},
   "outputs": [],
   "source": [
    "df_merged_orders=df_orders.merge(df_ords_prior,on='order_id',indicator=True)"
   ]
  },
  {
   "cell_type": "code",
   "execution_count": 18,
   "id": "6236f178-b34d-4fd9-83f9-683c27eeb6b5",
   "metadata": {},
   "outputs": [
    {
     "data": {
      "text/plain": [
       "(32434489, 11)"
      ]
     },
     "execution_count": 18,
     "metadata": {},
     "output_type": "execute_result"
    }
   ],
   "source": [
    "df_merged_orders.shape"
   ]
  },
  {
   "cell_type": "code",
   "execution_count": null,
   "id": "f6382c19-f0f4-42d5-9659-ff7abf3bfa4c",
   "metadata": {},
   "outputs": [],
   "source": []
  }
 ],
 "metadata": {
  "kernelspec": {
   "display_name": "Python [conda env:base] *",
   "language": "python",
   "name": "conda-base-py"
  },
  "language_info": {
   "codemirror_mode": {
    "name": "ipython",
    "version": 3
   },
   "file_extension": ".py",
   "mimetype": "text/x-python",
   "name": "python",
   "nbconvert_exporter": "python",
   "pygments_lexer": "ipython3",
   "version": "3.12.7"
  }
 },
 "nbformat": 4,
 "nbformat_minor": 5
}
